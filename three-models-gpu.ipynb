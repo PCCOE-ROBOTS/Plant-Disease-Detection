{
 "cells": [
  {
   "cell_type": "code",
   "execution_count": 3,
   "metadata": {
    "execution": {
     "iopub.execute_input": "2021-05-29T12:40:19.113858Z",
     "iopub.status.busy": "2021-05-29T12:40:19.113530Z",
     "iopub.status.idle": "2021-05-29T12:40:24.295268Z",
     "shell.execute_reply": "2021-05-29T12:40:24.294436Z",
     "shell.execute_reply.started": "2021-05-29T12:40:19.113829Z"
    }
   },
   "outputs": [],
   "source": [
    "from keras.models import Sequential \n",
    "from keras.layers import Conv2D,MaxPool2D, BatchNormalization, Dropout\n",
    "from keras.layers import Flatten, Dense\n",
    "from keras.preprocessing.image import ImageDataGenerator\n",
    "import os\n",
    "import tensorflow as tf\n",
    "from tensorflow import keras"
   ]
  },
  {
   "cell_type": "markdown",
   "metadata": {},
   "source": [
    "**PURELY CONVOLUTIONAL (ONLY CONV LAYERS)**"
   ]
  },
  {
   "cell_type": "code",
   "execution_count": 4,
   "metadata": {
    "execution": {
     "iopub.execute_input": "2021-05-29T12:40:28.154560Z",
     "iopub.status.busy": "2021-05-29T12:40:28.154230Z",
     "iopub.status.idle": "2021-05-29T12:40:31.427571Z",
     "shell.execute_reply": "2021-05-29T12:40:31.426620Z",
     "shell.execute_reply.started": "2021-05-29T12:40:28.154530Z"
    }
   },
   "outputs": [
    {
     "name": "stdout",
     "output_type": "stream",
     "text": [
      "Downloading data from https://storage.googleapis.com/tensorflow/keras-applications/vgg16/vgg16_weights_tf_dim_ordering_tf_kernels_notop.h5\n",
      "58892288/58889256 [==============================] - 0s 0us/step\n",
      "Model: \"vgg16\"\n",
      "_________________________________________________________________\n",
      "Layer (type)                 Output Shape              Param #   \n",
      "=================================================================\n",
      "input_1 (InputLayer)         [(None, 224, 224, 3)]     0         \n",
      "_________________________________________________________________\n",
      "block1_conv1 (Conv2D)        (None, 224, 224, 64)      1792      \n",
      "_________________________________________________________________\n",
      "block1_conv2 (Conv2D)        (None, 224, 224, 64)      36928     \n",
      "_________________________________________________________________\n",
      "block1_pool (MaxPooling2D)   (None, 112, 112, 64)      0         \n",
      "_________________________________________________________________\n",
      "block2_conv1 (Conv2D)        (None, 112, 112, 128)     73856     \n",
      "_________________________________________________________________\n",
      "block2_conv2 (Conv2D)        (None, 112, 112, 128)     147584    \n",
      "_________________________________________________________________\n",
      "block2_pool (MaxPooling2D)   (None, 56, 56, 128)       0         \n",
      "_________________________________________________________________\n",
      "block3_conv1 (Conv2D)        (None, 56, 56, 256)       295168    \n",
      "_________________________________________________________________\n",
      "block3_conv2 (Conv2D)        (None, 56, 56, 256)       590080    \n",
      "_________________________________________________________________\n",
      "block3_conv3 (Conv2D)        (None, 56, 56, 256)       590080    \n",
      "_________________________________________________________________\n",
      "block3_pool (MaxPooling2D)   (None, 28, 28, 256)       0         \n",
      "_________________________________________________________________\n",
      "block4_conv1 (Conv2D)        (None, 28, 28, 512)       1180160   \n",
      "_________________________________________________________________\n",
      "block4_conv2 (Conv2D)        (None, 28, 28, 512)       2359808   \n",
      "_________________________________________________________________\n",
      "block4_conv3 (Conv2D)        (None, 28, 28, 512)       2359808   \n",
      "_________________________________________________________________\n",
      "block4_pool (MaxPooling2D)   (None, 14, 14, 512)       0         \n",
      "_________________________________________________________________\n",
      "block5_conv1 (Conv2D)        (None, 14, 14, 512)       2359808   \n",
      "_________________________________________________________________\n",
      "block5_conv2 (Conv2D)        (None, 14, 14, 512)       2359808   \n",
      "_________________________________________________________________\n",
      "block5_conv3 (Conv2D)        (None, 14, 14, 512)       2359808   \n",
      "_________________________________________________________________\n",
      "block5_pool (MaxPooling2D)   (None, 7, 7, 512)         0         \n",
      "=================================================================\n",
      "Total params: 14,714,688\n",
      "Trainable params: 14,714,688\n",
      "Non-trainable params: 0\n",
      "_________________________________________________________________\n"
     ]
    }
   ],
   "source": [
    "baseModel = keras.applications.VGG16(weights='imagenet', input_shape=(224,224,3), include_top=False)\n",
    "baseModel.summary()"
   ]
  },
  {
   "cell_type": "code",
   "execution_count": 5,
   "metadata": {
    "execution": {
     "iopub.execute_input": "2021-05-29T12:40:36.344544Z",
     "iopub.status.busy": "2021-05-29T12:40:36.344172Z",
     "iopub.status.idle": "2021-05-29T12:40:36.428604Z",
     "shell.execute_reply": "2021-05-29T12:40:36.427827Z",
     "shell.execute_reply.started": "2021-05-29T12:40:36.344515Z"
    }
   },
   "outputs": [
    {
     "name": "stdout",
     "output_type": "stream",
     "text": [
      "Model: \"pretrained_vgg16\"\n",
      "_________________________________________________________________\n",
      "Layer (type)                 Output Shape              Param #   \n",
      "=================================================================\n",
      "input_2 (InputLayer)         [(None, 224, 224, 3)]     0         \n",
      "_________________________________________________________________\n",
      "vgg16 (Functional)           (None, 7, 7, 512)         14714688  \n",
      "_________________________________________________________________\n",
      "global_average_pooling2d (Gl (None, 512)               0         \n",
      "_________________________________________________________________\n",
      "dropout (Dropout)            (None, 512)               0         \n",
      "_________________________________________________________________\n",
      "dense (Dense)                (None, 8)                 4104      \n",
      "=================================================================\n",
      "Total params: 14,718,792\n",
      "Trainable params: 4,104\n",
      "Non-trainable params: 14,714,688\n",
      "_________________________________________________________________\n"
     ]
    }
   ],
   "source": [
    "baseModel.trainable = False\n",
    "inputs = keras.Input(shape=(224,224,3))\n",
    "\n",
    "x = baseModel(inputs, training=False)\n",
    "x = keras.layers.GlobalAveragePooling2D()(x)\n",
    "x = keras.layers.Dropout(0.2)(x)\n",
    "outputs = keras.layers.Dense(8)(x)\n",
    "\n",
    "model = keras.Model(inputs, outputs, name='pretrained_vgg16')\n",
    "model.summary()"
   ]
  },
  {
   "cell_type": "code",
   "execution_count": 6,
   "metadata": {
    "execution": {
     "iopub.execute_input": "2021-05-29T12:40:44.599852Z",
     "iopub.status.busy": "2021-05-29T12:40:44.599503Z",
     "iopub.status.idle": "2021-05-29T12:40:51.464643Z",
     "shell.execute_reply": "2021-05-29T12:40:51.463587Z",
     "shell.execute_reply.started": "2021-05-29T12:40:44.599822Z"
    }
   },
   "outputs": [
    {
     "name": "stdout",
     "output_type": "stream",
     "text": [
      "Found 15087 images belonging to 8 classes.\n",
      "Found 3772 images belonging to 8 classes.\n"
     ]
    }
   ],
   "source": [
    "#image preprocessing\n",
    "from keras.preprocessing.image import ImageDataGenerator\n",
    "\n",
    "train_datagen = ImageDataGenerator(rescale = 1./255)\n",
    "valid_datagen = ImageDataGenerator(rescale = 1./255)\n",
    "\n",
    "batch_size = 128\n",
    "base_dir = \"../input/project-dataset/Plant_Dataset/New Plant Diseases Dataset(Augmented)\"\n",
    "\n",
    "training_set = train_datagen.flow_from_directory(base_dir + '/train',\n",
    "                                                target_size = (224,224),\n",
    "                                                batch_size = batch_size,\n",
    "                                                class_mode = 'categorical'\n",
    "                                                )\n",
    "valid_set = valid_datagen.flow_from_directory(base_dir + '/valid',\n",
    "                                                target_size = (224,224),\n",
    "                                                batch_size = batch_size,\n",
    "                                                class_mode = 'categorical'\n",
    "                                              )"
   ]
  },
  {
   "cell_type": "code",
   "execution_count": 7,
   "metadata": {
    "execution": {
     "iopub.execute_input": "2021-05-29T12:40:56.445347Z",
     "iopub.status.busy": "2021-05-29T12:40:56.444989Z",
     "iopub.status.idle": "2021-05-29T12:40:56.454368Z",
     "shell.execute_reply": "2021-05-29T12:40:56.453038Z",
     "shell.execute_reply.started": "2021-05-29T12:40:56.445316Z"
    }
   },
   "outputs": [
    {
     "data": {
      "text/plain": [
       "{'Apple___Apple_scab': 0,\n",
       " 'Apple___Black_rot': 1,\n",
       " 'Apple___Cedar_apple_rust': 2,\n",
       " 'Apple___healthy': 3,\n",
       " 'Corn_(maize)___Cercospora_leaf_spot Gray_leaf_spot': 4,\n",
       " 'Corn_(maize)___Common_rust_': 5,\n",
       " 'Corn_(maize)___Northern_Leaf_Blight': 6,\n",
       " 'Corn_(maize)___healthy': 7}"
      ]
     },
     "execution_count": 7,
     "metadata": {},
     "output_type": "execute_result"
    }
   ],
   "source": [
    "all_categories = training_set.class_indices\n",
    "all_categories"
   ]
  },
  {
   "cell_type": "code",
   "execution_count": 8,
   "metadata": {
    "execution": {
     "iopub.execute_input": "2021-05-29T12:41:00.067046Z",
     "iopub.status.busy": "2021-05-29T12:41:00.066712Z",
     "iopub.status.idle": "2021-05-29T12:41:00.073190Z",
     "shell.execute_reply": "2021-05-29T12:41:00.072165Z",
     "shell.execute_reply.started": "2021-05-29T12:41:00.066998Z"
    }
   },
   "outputs": [
    {
     "data": {
      "text/plain": [
       "['Apple___Apple_scab',\n",
       " 'Apple___Black_rot',\n",
       " 'Apple___Cedar_apple_rust',\n",
       " 'Apple___healthy',\n",
       " 'Corn_(maize)___Cercospora_leaf_spot Gray_leaf_spot',\n",
       " 'Corn_(maize)___Common_rust_',\n",
       " 'Corn_(maize)___Northern_Leaf_Blight',\n",
       " 'Corn_(maize)___healthy']"
      ]
     },
     "execution_count": 8,
     "metadata": {},
     "output_type": "execute_result"
    }
   ],
   "source": [
    "list_of_all_categories = list(all_categories)\n",
    "list_of_all_categories"
   ]
  },
  {
   "cell_type": "code",
   "execution_count": 9,
   "metadata": {
    "execution": {
     "iopub.execute_input": "2021-05-29T12:41:02.842511Z",
     "iopub.status.busy": "2021-05-29T12:41:02.841742Z",
     "iopub.status.idle": "2021-05-29T12:41:02.871591Z",
     "shell.execute_reply": "2021-05-29T12:41:02.870616Z",
     "shell.execute_reply.started": "2021-05-29T12:41:02.842451Z"
    }
   },
   "outputs": [
    {
     "name": "stdout",
     "output_type": "stream",
     "text": [
      "15087 3772\n"
     ]
    }
   ],
   "source": [
    "train_num = training_set.samples\n",
    "valid_num = valid_set.samples\n",
    "print(train_num,valid_num)"
   ]
  },
  {
   "cell_type": "code",
   "execution_count": 10,
   "metadata": {},
   "outputs": [
    {
     "name": "stdout",
     "output_type": "stream",
     "text": [
      "Epoch 1/18\n",
      "117/117 [==============================] - 138s 1s/step - loss: 1.9492 - categorical_accuracy: 0.2941 - val_loss: 1.3494 - val_categorical_accuracy: 0.7500\n",
      "Epoch 2/18\n",
      "117/117 [==============================] - 67s 572ms/step - loss: 1.2567 - categorical_accuracy: 0.7145 - val_loss: 0.9741 - val_categorical_accuracy: 0.8475\n",
      "Epoch 3/18\n",
      "117/117 [==============================] - 66s 562ms/step - loss: 0.9437 - categorical_accuracy: 0.8137 - val_loss: 0.7783 - val_categorical_accuracy: 0.8567\n",
      "Epoch 4/18\n",
      "117/117 [==============================] - 67s 569ms/step - loss: 0.7788 - categorical_accuracy: 0.8416 - val_loss: 0.6573 - val_categorical_accuracy: 0.8766\n",
      "Epoch 5/18\n",
      "117/117 [==============================] - 67s 573ms/step - loss: 0.6633 - categorical_accuracy: 0.8550 - val_loss: 0.5741 - val_categorical_accuracy: 0.8823\n",
      "Epoch 6/18\n",
      "117/117 [==============================] - 67s 573ms/step - loss: 0.5975 - categorical_accuracy: 0.8592 - val_loss: 0.5138 - val_categorical_accuracy: 0.8904\n",
      "Epoch 7/18\n",
      "117/117 [==============================] - 67s 571ms/step - loss: 0.5365 - categorical_accuracy: 0.8726 - val_loss: 0.4675 - val_categorical_accuracy: 0.9052\n",
      "Epoch 8/18\n",
      "117/117 [==============================] - 67s 572ms/step - loss: 0.5040 - categorical_accuracy: 0.8805 - val_loss: 0.4322 - val_categorical_accuracy: 0.9079\n",
      "Epoch 9/18\n",
      "117/117 [==============================] - 66s 565ms/step - loss: 0.4744 - categorical_accuracy: 0.8817 - val_loss: 0.4016 - val_categorical_accuracy: 0.9133\n",
      "Epoch 10/18\n",
      "117/117 [==============================] - 67s 569ms/step - loss: 0.4306 - categorical_accuracy: 0.8922 - val_loss: 0.3748 - val_categorical_accuracy: 0.9170\n",
      "Epoch 11/18\n",
      "117/117 [==============================] - 66s 566ms/step - loss: 0.4084 - categorical_accuracy: 0.8969 - val_loss: 0.3547 - val_categorical_accuracy: 0.9195\n",
      "Epoch 12/18\n",
      "117/117 [==============================] - 66s 567ms/step - loss: 0.3869 - categorical_accuracy: 0.8965 - val_loss: 0.3361 - val_categorical_accuracy: 0.9213\n",
      "Epoch 13/18\n",
      "117/117 [==============================] - 66s 568ms/step - loss: 0.3728 - categorical_accuracy: 0.8975 - val_loss: 0.3211 - val_categorical_accuracy: 0.9248\n",
      "Epoch 14/18\n",
      "117/117 [==============================] - 66s 568ms/step - loss: 0.3578 - categorical_accuracy: 0.8996 - val_loss: 0.3069 - val_categorical_accuracy: 0.9281\n",
      "Epoch 15/18\n",
      "117/117 [==============================] - 66s 561ms/step - loss: 0.3515 - categorical_accuracy: 0.9027 - val_loss: 0.2946 - val_categorical_accuracy: 0.9308\n",
      "Epoch 16/18\n",
      "117/117 [==============================] - 66s 568ms/step - loss: 0.3302 - categorical_accuracy: 0.9117 - val_loss: 0.2859 - val_categorical_accuracy: 0.9300\n",
      "Epoch 17/18\n",
      "117/117 [==============================] - 67s 574ms/step - loss: 0.3307 - categorical_accuracy: 0.9049 - val_loss: 0.2774 - val_categorical_accuracy: 0.9286\n",
      "Epoch 18/18\n",
      "117/117 [==============================] - 67s 570ms/step - loss: 0.3169 - categorical_accuracy: 0.9133 - val_loss: 0.2666 - val_categorical_accuracy: 0.9329\n"
     ]
    }
   ],
   "source": [
    "model.compile(optimizer=keras.optimizers.Adam(), loss=keras.losses.CategoricalCrossentropy(from_logits=True),\n",
    "                   metrics=[keras.metrics.CategoricalAccuracy()])\n",
    "history = model.fit(training_set, steps_per_epoch=train_num//batch_size, validation_data=valid_set,\n",
    "                               epochs=18, validation_steps=valid_num//batch_size)"
   ]
  },
  {
   "cell_type": "code",
   "execution_count": 11,
   "metadata": {},
   "outputs": [
    {
     "data": {
      "text/plain": [
       "Text(0, 0.5, 'Accuracy')"
      ]
     },
     "execution_count": 11,
     "metadata": {},
     "output_type": "execute_result"
    },
    {
     "data": {
      "image/png": "[encoded data removed]",
      "text/plain": [
       "<Figure size 432x288 with 1 Axes>"
      ]
     },
     "metadata": {
      "needs_background": "light"
     },
     "output_type": "display_data"
    }
   ],
   "source": [
    "train_accuracy = history.history['categorical_accuracy']\n",
    "val_accuracy = history.history['val_categorical_accuracy']\n",
    "import matplotlib.pyplot as plt\n",
    "\n",
    "epochs = [1,2,3,4,5,6,7,8,9,10,11,12,13,14,15,16,17,18]\n",
    "\n",
    "plt.plot(epochs, train_accuracy, label='train acc')\n",
    "plt.plot(epochs, val_accuracy, label='val acc')\n",
    "plt.title(\"Accuracy Plot\")\n",
    "plt.xlabel('Epochs')\n",
    "plt.ylabel('Accuracy')"
   ]
  },
  {
   "cell_type": "code",
   "execution_count": 12,
   "metadata": {},
   "outputs": [
    {
     "name": "stdout",
     "output_type": "stream",
     "text": [
      "30/30 [==============================] - 14s 473ms/step - loss: 0.2662 - categorical_accuracy: 0.9332\n"
     ]
    },
    {
     "data": {
      "text/plain": [
       "[0.26620030403137207, 0.9331919550895691]"
      ]
     },
     "execution_count": 12,
     "metadata": {},
     "output_type": "execute_result"
    }
   ],
   "source": [
    "model.evaluate(valid_set)"
   ]
  },
  {
   "cell_type": "code",
   "execution_count": 13,
   "metadata": {
    "execution": {
     "iopub.execute_input": "2021-05-29T13:09:08.588065Z",
     "iopub.status.busy": "2021-05-29T13:09:08.587731Z",
     "iopub.status.idle": "2021-05-29T13:09:20.861547Z",
     "shell.execute_reply": "2021-05-29T13:09:20.860440Z",
     "shell.execute_reply.started": "2021-05-29T13:09:08.588030Z"
    }
   },
   "outputs": [
    {
     "data": {
      "text/plain": [
       "array([-2.9897716, -1.2525553, -5.9218116, -3.5111685, -3.1787262,\n",
       "        6.066336 , -1.6558716, -8.438996 ], dtype=float32)"
      ]
     },
     "execution_count": 13,
     "metadata": {},
     "output_type": "execute_result"
    }
   ],
   "source": [
    "prediction = model.predict(valid_set)\n",
    "prediction[0]"
   ]
  },
  {
   "cell_type": "code",
   "execution_count": 14,
   "metadata": {
    "execution": {
     "iopub.execute_input": "2021-05-29T13:09:33.339519Z",
     "iopub.status.busy": "2021-05-29T13:09:33.339186Z",
     "iopub.status.idle": "2021-05-29T13:09:33.377099Z",
     "shell.execute_reply": "2021-05-29T13:09:33.376122Z",
     "shell.execute_reply.started": "2021-05-29T13:09:33.339490Z"
    }
   },
   "outputs": [
    {
     "data": {
      "text/plain": [
       "['Corn_(maize)___healthy',\n",
       " 'Apple___healthy',\n",
       " 'Corn_(maize)___Common_rust_',\n",
       " 'Corn_(maize)___healthy',\n",
       " 'Apple___healthy',\n",
       " 'Corn_(maize)___Cercospora_leaf_spot Gray_leaf_spot',\n",
       " 'Corn_(maize)___Common_rust_',\n",
       " 'Apple___Black_rot',\n",
       " 'Apple___healthy',\n",
       " 'Corn_(maize)___Northern_Leaf_Blight',\n",
       " 'Corn_(maize)___Northern_Leaf_Blight',\n",
       " 'Apple___healthy',\n",
       " 'Corn_(maize)___Northern_Leaf_Blight',\n",
       " 'Apple___Black_rot',\n",
       " 'Corn_(maize)___Common_rust_',\n",
       " 'Corn_(maize)___Cercospora_leaf_spot Gray_leaf_spot',\n",
       " 'Apple___Cedar_apple_rust',\n",
       " 'Corn_(maize)___Common_rust_',\n",
       " 'Corn_(maize)___Northern_Leaf_Blight',\n",
       " 'Corn_(maize)___healthy',\n",
       " 'Corn_(maize)___Common_rust_',\n",
       " 'Corn_(maize)___Cercospora_leaf_spot Gray_leaf_spot',\n",
       " 'Corn_(maize)___Northern_Leaf_Blight',\n",
       " 'Apple___Cedar_apple_rust',\n",
       " 'Corn_(maize)___Common_rust_',\n",
       " 'Apple___healthy',\n",
       " 'Apple___Cedar_apple_rust',\n",
       " 'Corn_(maize)___Cercospora_leaf_spot Gray_leaf_spot',\n",
       " 'Corn_(maize)___healthy',\n",
       " 'Corn_(maize)___Northern_Leaf_Blight',\n",
       " 'Corn_(maize)___Common_rust_',\n",
       " 'Corn_(maize)___Common_rust_',\n",
       " 'Apple___Black_rot',\n",
       " 'Apple___healthy',\n",
       " 'Apple___Cedar_apple_rust',\n",
       " 'Corn_(maize)___Cercospora_leaf_spot Gray_leaf_spot',\n",
       " 'Apple___Cedar_apple_rust',\n",
       " 'Apple___Cedar_apple_rust',\n",
       " 'Apple___Apple_scab',\n",
       " 'Apple___Black_rot',\n",
       " 'Apple___healthy',\n",
       " 'Apple___Black_rot',\n",
       " 'Apple___Cedar_apple_rust',\n",
       " 'Corn_(maize)___Cercospora_leaf_spot Gray_leaf_spot',\n",
       " 'Corn_(maize)___Common_rust_',\n",
       " 'Apple___Black_rot',\n",
       " 'Apple___Black_rot',\n",
       " 'Apple___Apple_scab',\n",
       " 'Corn_(maize)___Cercospora_leaf_spot Gray_leaf_spot',\n",
       " 'Corn_(maize)___Common_rust_']"
      ]
     },
     "execution_count": 14,
     "metadata": {},
     "output_type": "execute_result"
    }
   ],
   "source": [
    "prediction_array = []\n",
    "for i in prediction:\n",
    "  max_prob = max(i)\n",
    "  for j in range(8):\n",
    "    if i[j] == max_prob:\n",
    "      prediction_array.append(list_of_all_categories[j])\n",
    "prediction_array[100:150]"
   ]
  },
  {
   "cell_type": "code",
   "execution_count": null,
   "metadata": {
    "execution": {
     "iopub.execute_input": "2021-05-29T06:59:37.853729Z",
     "iopub.status.busy": "2021-05-29T06:59:37.853381Z",
     "iopub.status.idle": "2021-05-29T06:59:38.007052Z",
     "shell.execute_reply": "2021-05-29T06:59:38.006153Z",
     "shell.execute_reply.started": "2021-05-29T06:59:37.853696Z"
    }
   },
   "outputs": [],
   "source": [
    "model.save('imported_model.h5')"
   ]
  },
  {
   "cell_type": "markdown",
   "metadata": {},
   "source": [
    "**MIXED(CNN WITH DENSE LAYERS)**"
   ]
  },
  {
   "cell_type": "code",
   "execution_count": 12,
   "metadata": {
    "execution": {
     "iopub.execute_input": "2021-05-29T11:01:54.323943Z",
     "iopub.status.busy": "2021-05-29T11:01:54.323437Z",
     "iopub.status.idle": "2021-05-29T11:01:54.629802Z",
     "shell.execute_reply": "2021-05-29T11:01:54.628074Z",
     "shell.execute_reply.started": "2021-05-29T11:01:54.323899Z"
    }
   },
   "outputs": [
    {
     "name": "stdout",
     "output_type": "stream",
     "text": [
      "Model: \"sequential_5\"\n",
      "_________________________________________________________________\n",
      "Layer (type)                 Output Shape              Param #   \n",
      "=================================================================\n",
      "conv2d_34 (Conv2D)           (None, 224, 224, 64)      1792      \n",
      "_________________________________________________________________\n",
      "conv2d_35 (Conv2D)           (None, 224, 224, 64)      36928     \n",
      "_________________________________________________________________\n",
      "max_pooling2d_17 (MaxPooling (None, 112, 112, 64)      0         \n",
      "_________________________________________________________________\n",
      "conv2d_36 (Conv2D)           (None, 112, 112, 64)      36928     \n",
      "_________________________________________________________________\n",
      "batch_normalization_26 (Batc (None, 112, 112, 64)      256       \n",
      "_________________________________________________________________\n",
      "max_pooling2d_18 (MaxPooling (None, 56, 56, 64)        0         \n",
      "_________________________________________________________________\n",
      "conv2d_37 (Conv2D)           (None, 56, 56, 128)       73856     \n",
      "_________________________________________________________________\n",
      "batch_normalization_27 (Batc (None, 56, 56, 128)       512       \n",
      "_________________________________________________________________\n",
      "conv2d_38 (Conv2D)           (None, 56, 56, 128)       147584    \n",
      "_________________________________________________________________\n",
      "batch_normalization_28 (Batc (None, 56, 56, 128)       512       \n",
      "_________________________________________________________________\n",
      "max_pooling2d_19 (MaxPooling (None, 28, 28, 128)       0         \n",
      "_________________________________________________________________\n",
      "conv2d_39 (Conv2D)           (None, 28, 28, 256)       295168    \n",
      "_________________________________________________________________\n",
      "batch_normalization_29 (Batc (None, 28, 28, 256)       1024      \n",
      "_________________________________________________________________\n",
      "conv2d_40 (Conv2D)           (None, 28, 28, 256)       590080    \n",
      "_________________________________________________________________\n",
      "batch_normalization_30 (Batc (None, 28, 28, 256)       1024      \n",
      "_________________________________________________________________\n",
      "max_pooling2d_20 (MaxPooling (None, 14, 14, 256)       0         \n",
      "_________________________________________________________________\n",
      "conv2d_41 (Conv2D)           (None, 14, 14, 512)       1180160   \n",
      "_________________________________________________________________\n",
      "batch_normalization_31 (Batc (None, 14, 14, 512)       2048      \n",
      "_________________________________________________________________\n",
      "conv2d_42 (Conv2D)           (None, 14, 14, 512)       2359808   \n",
      "_________________________________________________________________\n",
      "batch_normalization_32 (Batc (None, 14, 14, 512)       2048      \n",
      "_________________________________________________________________\n",
      "max_pooling2d_21 (MaxPooling (None, 7, 7, 512)         0         \n",
      "_________________________________________________________________\n",
      "flatten_2 (Flatten)          (None, 25088)             0         \n",
      "_________________________________________________________________\n",
      "dense_6 (Dense)              (None, 256)               6422784   \n",
      "_________________________________________________________________\n",
      "batch_normalization_33 (Batc (None, 256)               1024      \n",
      "_________________________________________________________________\n",
      "dense_7 (Dense)              (None, 128)               32896     \n",
      "_________________________________________________________________\n",
      "batch_normalization_34 (Batc (None, 128)               512       \n",
      "_________________________________________________________________\n",
      "dense_8 (Dense)              (None, 64)                8256      \n",
      "_________________________________________________________________\n",
      "batch_normalization_35 (Batc (None, 64)                256       \n",
      "_________________________________________________________________\n",
      "dense_9 (Dense)              (None, 32)                2080      \n",
      "_________________________________________________________________\n",
      "batch_normalization_36 (Batc (None, 32)                128       \n",
      "_________________________________________________________________\n",
      "dense_10 (Dense)             (None, 8)                 264       \n",
      "=================================================================\n",
      "Total params: 11,197,928\n",
      "Trainable params: 11,193,256\n",
      "Non-trainable params: 4,672\n",
      "_________________________________________________________________\n"
     ]
    }
   ],
   "source": [
    "model2 = Sequential()\n",
    "\n",
    "model2.add(Conv2D(input_shape=[224,224,3], filters=64,kernel_size=[3,3], padding='same', activation='relu'))\n",
    "model2.add(Conv2D(filters=64,kernel_size=[3,3], padding='same', activation='relu'))\n",
    "model2.add(MaxPool2D(pool_size=[2,2], strides=[2,2]))\n",
    "\n",
    "model2.add(Conv2D(filters=64,kernel_size=[3,3], padding='same', activation='relu'))\n",
    "model2.add(BatchNormalization())\n",
    "\n",
    "\n",
    "\n",
    "model2.add(MaxPool2D(pool_size=[2,2], strides=[2,2]))\n",
    "\n",
    "model2.add(Conv2D(filters=128,kernel_size=[3,3], padding='same', activation='relu'))\n",
    "model2.add(BatchNormalization())\n",
    "\n",
    "model2.add(Conv2D(filters=128,kernel_size=[3,3], padding='same', activation='relu'))\n",
    "model2.add(BatchNormalization())\n",
    "\n",
    "\n",
    "\n",
    "model2.add(MaxPool2D(pool_size=[2,2], strides=[2,2]))\n",
    "\n",
    "model2.add(Conv2D(filters=256,kernel_size=[3,3], padding='same', activation='relu'))\n",
    "model2.add(BatchNormalization())\n",
    "\n",
    "model2.add(Conv2D(filters=256,kernel_size=[3,3], padding='same', activation='relu'))\n",
    "model2.add(BatchNormalization())\n",
    "\n",
    "\n",
    "model2.add(MaxPool2D(pool_size=[2,2], strides=[2,2]))\n",
    "\n",
    "model2.add(Conv2D(filters=512,kernel_size=[3,3], padding='same', activation='relu'))\n",
    "model2.add(BatchNormalization())\n",
    "model2.add(Conv2D(filters=512,kernel_size=[3,3], padding='same', activation='relu'))\n",
    "model2.add(BatchNormalization())\n",
    "\n",
    "model2.add(MaxPool2D(pool_size=[2,2], strides=[2,2]))\n",
    "\n",
    "model2.add(Flatten())\n",
    "model2.add(Dense(units=256,activation='relu'))\n",
    "model2.add(BatchNormalization())\n",
    "model2.add(Dense(units=128,activation='relu'))\n",
    "model2.add(BatchNormalization())\n",
    "model2.add(Dense(units=64,activation='relu'))\n",
    "model2.add(BatchNormalization())\n",
    "model2.add(Dense(units=32,activation='relu'))\n",
    "model2.add(BatchNormalization())\n",
    "\n",
    "\n",
    "model2.add(Dense(units=8, activation=\"softmax\"))\n",
    "model2.summary()"
   ]
  },
  {
   "cell_type": "code",
   "execution_count": 13,
   "metadata": {
    "execution": {
     "iopub.execute_input": "2021-05-29T11:01:59.964693Z",
     "iopub.status.busy": "2021-05-29T11:01:59.964305Z",
     "iopub.status.idle": "2021-05-29T11:22:12.386767Z",
     "shell.execute_reply": "2021-05-29T11:22:12.386009Z",
     "shell.execute_reply.started": "2021-05-29T11:01:59.964662Z"
    }
   },
   "outputs": [
    {
     "name": "stdout",
     "output_type": "stream",
     "text": [
      "Epoch 1/18\n",
      "117/117 [==============================] - 70s 577ms/step - loss: 0.6794 - categorical_accuracy: 0.7892 - val_loss: 3.5278 - val_categorical_accuracy: 0.1837\n",
      "Epoch 2/18\n",
      "117/117 [==============================] - 67s 569ms/step - loss: 0.1209 - categorical_accuracy: 0.9644 - val_loss: 4.1877 - val_categorical_accuracy: 0.2109\n",
      "Epoch 3/18\n",
      "117/117 [==============================] - 68s 579ms/step - loss: 0.0850 - categorical_accuracy: 0.9733 - val_loss: 2.4899 - val_categorical_accuracy: 0.4173\n",
      "Epoch 4/18\n",
      "117/117 [==============================] - 67s 574ms/step - loss: 0.0708 - categorical_accuracy: 0.9791 - val_loss: 6.1125 - val_categorical_accuracy: 0.2241\n",
      "Epoch 5/18\n",
      "117/117 [==============================] - 68s 578ms/step - loss: 0.0664 - categorical_accuracy: 0.9780 - val_loss: 0.7206 - val_categorical_accuracy: 0.8214\n",
      "Epoch 6/18\n",
      "117/117 [==============================] - 68s 577ms/step - loss: 0.0424 - categorical_accuracy: 0.9856 - val_loss: 0.3775 - val_categorical_accuracy: 0.8917\n",
      "Epoch 7/18\n",
      "117/117 [==============================] - 68s 582ms/step - loss: 0.0297 - categorical_accuracy: 0.9907 - val_loss: 1.1834 - val_categorical_accuracy: 0.7487\n",
      "Epoch 8/18\n",
      "117/117 [==============================] - 67s 569ms/step - loss: 0.0309 - categorical_accuracy: 0.9899 - val_loss: 0.2876 - val_categorical_accuracy: 0.9062\n",
      "Epoch 9/18\n",
      "117/117 [==============================] - 67s 569ms/step - loss: 0.0322 - categorical_accuracy: 0.9891 - val_loss: 0.1059 - val_categorical_accuracy: 0.9671\n",
      "Epoch 10/18\n",
      "117/117 [==============================] - 67s 571ms/step - loss: 0.0365 - categorical_accuracy: 0.9875 - val_loss: 0.1221 - val_categorical_accuracy: 0.9634\n",
      "Epoch 11/18\n",
      "117/117 [==============================] - 67s 569ms/step - loss: 0.0207 - categorical_accuracy: 0.9926 - val_loss: 0.1475 - val_categorical_accuracy: 0.9569\n",
      "Epoch 12/18\n",
      "117/117 [==============================] - 67s 567ms/step - loss: 0.0171 - categorical_accuracy: 0.9949 - val_loss: 2.0114 - val_categorical_accuracy: 0.7010\n",
      "Epoch 13/18\n",
      "117/117 [==============================] - 67s 571ms/step - loss: 0.0239 - categorical_accuracy: 0.9913 - val_loss: 0.0616 - val_categorical_accuracy: 0.9798\n",
      "Epoch 14/18\n",
      "117/117 [==============================] - 67s 572ms/step - loss: 0.0176 - categorical_accuracy: 0.9947 - val_loss: 0.2246 - val_categorical_accuracy: 0.9421\n",
      "Epoch 15/18\n",
      "117/117 [==============================] - 67s 568ms/step - loss: 0.0218 - categorical_accuracy: 0.9927 - val_loss: 0.9133 - val_categorical_accuracy: 0.7947\n",
      "Epoch 16/18\n",
      "117/117 [==============================] - 67s 570ms/step - loss: 0.0129 - categorical_accuracy: 0.9967 - val_loss: 0.2751 - val_categorical_accuracy: 0.9211\n",
      "Epoch 17/18\n",
      "117/117 [==============================] - 67s 573ms/step - loss: 0.0107 - categorical_accuracy: 0.9958 - val_loss: 0.3010 - val_categorical_accuracy: 0.9378\n",
      "Epoch 18/18\n",
      "117/117 [==============================] - 67s 569ms/step - loss: 0.0088 - categorical_accuracy: 0.9969 - val_loss: 0.1679 - val_categorical_accuracy: 0.9539\n"
     ]
    }
   ],
   "source": [
    "model2.compile(optimizer=keras.optimizers.Adam(), loss=keras.losses.CategoricalCrossentropy(from_logits=True),\n",
    "                   metrics=[keras.metrics.CategoricalAccuracy()])\n",
    "history2 = model2.fit(training_set, steps_per_epoch=train_num//batch_size, validation_data=valid_set,\n",
    "                               epochs=18, validation_steps=valid_num//batch_size)"
   ]
  },
  {
   "cell_type": "code",
   "execution_count": 16,
   "metadata": {
    "execution": {
     "iopub.execute_input": "2021-05-29T11:23:06.258868Z",
     "iopub.status.busy": "2021-05-29T11:23:06.258496Z",
     "iopub.status.idle": "2021-05-29T11:23:06.441841Z",
     "shell.execute_reply": "2021-05-29T11:23:06.440442Z",
     "shell.execute_reply.started": "2021-05-29T11:23:06.258836Z"
    }
   },
   "outputs": [
    {
     "data": {
      "text/plain": [
       "Text(0, 0.5, 'Accuracy')"
      ]
     },
     "execution_count": 16,
     "metadata": {},
     "output_type": "execute_result"
    },
    {
     "data": {
      "image/png": "[encoded data removed]",
      "text/plain": [
       "<Figure size 432x288 with 1 Axes>"
      ]
     },
     "metadata": {
      "needs_background": "light"
     },
     "output_type": "display_data"
    }
   ],
   "source": [
    "train_accuracy2 = history2.history['categorical_accuracy']\n",
    "val_accuracy2 = history2.history['val_categorical_accuracy']\n",
    "import matplotlib.pyplot as plt\n",
    "\n",
    "epochs = [1,2,3,4,5,6,7,8,9,10,11,12,13,14,15,16,17,18]\n",
    "\n",
    "plt.plot(epochs, train_accuracy2, label='train acc')\n",
    "plt.plot(epochs, val_accuracy2, label='val acc')\n",
    "plt.title(\"Accuracy Plot\")\n",
    "plt.xlabel('Epochs')\n",
    "plt.ylabel('Accuracy')"
   ]
  },
  {
   "cell_type": "code",
   "execution_count": 17,
   "metadata": {
    "execution": {
     "iopub.execute_input": "2021-05-29T11:23:52.959914Z",
     "iopub.status.busy": "2021-05-29T11:23:52.959492Z",
     "iopub.status.idle": "2021-05-29T11:24:05.517332Z",
     "shell.execute_reply": "2021-05-29T11:24:05.516687Z",
     "shell.execute_reply.started": "2021-05-29T11:23:52.959878Z"
    }
   },
   "outputs": [
    {
     "name": "stdout",
     "output_type": "stream",
     "text": [
      "30/30 [==============================] - 12s 403ms/step - loss: 0.1661 - categorical_accuracy: 0.9544\n"
     ]
    },
    {
     "data": {
      "text/plain": [
       "[0.16610999405384064, 0.9544008374214172]"
      ]
     },
     "execution_count": 17,
     "metadata": {},
     "output_type": "execute_result"
    }
   ],
   "source": [
    "model2.evaluate(valid_set)"
   ]
  },
  {
   "cell_type": "code",
   "execution_count": 18,
   "metadata": {
    "execution": {
     "iopub.execute_input": "2021-05-29T11:26:00.440825Z",
     "iopub.status.busy": "2021-05-29T11:26:00.440413Z",
     "iopub.status.idle": "2021-05-29T11:26:00.784631Z",
     "shell.execute_reply": "2021-05-29T11:26:00.783834Z",
     "shell.execute_reply.started": "2021-05-29T11:26:00.440790Z"
    }
   },
   "outputs": [],
   "source": [
    "model2.save('mixed_model.h5')"
   ]
  },
  {
   "cell_type": "markdown",
   "metadata": {},
   "source": [
    "**PURELY DNN (ONLY DENSE LAYERS)**"
   ]
  },
  {
   "cell_type": "code",
   "execution_count": 29,
   "metadata": {
    "execution": {
     "iopub.execute_input": "2021-05-29T11:42:43.035721Z",
     "iopub.status.busy": "2021-05-29T11:42:43.035368Z",
     "iopub.status.idle": "2021-05-29T11:42:43.229036Z",
     "shell.execute_reply": "2021-05-29T11:42:43.227593Z",
     "shell.execute_reply.started": "2021-05-29T11:42:43.035687Z"
    }
   },
   "outputs": [
    {
     "name": "stdout",
     "output_type": "stream",
     "text": [
      "Model: \"sequential_15\"\n",
      "_________________________________________________________________\n",
      "Layer (type)                 Output Shape              Param #   \n",
      "=================================================================\n",
      "conv2d_52 (Conv2D)           (None, 224, 224, 64)      1792      \n",
      "_________________________________________________________________\n",
      "flatten_12 (Flatten)         (None, 3211264)           0         \n",
      "_________________________________________________________________\n",
      "dense_83 (Dense)             (None, 9)                 28901385  \n",
      "_________________________________________________________________\n",
      "batch_normalization_100 (Bat (None, 9)                 36        \n",
      "_________________________________________________________________\n",
      "dense_84 (Dense)             (None, 32)                320       \n",
      "_________________________________________________________________\n",
      "batch_normalization_101 (Bat (None, 32)                128       \n",
      "_________________________________________________________________\n",
      "dense_85 (Dense)             (None, 64)                2112      \n",
      "_________________________________________________________________\n",
      "batch_normalization_102 (Bat (None, 64)                256       \n",
      "_________________________________________________________________\n",
      "dense_86 (Dense)             (None, 128)               8320      \n",
      "_________________________________________________________________\n",
      "batch_normalization_103 (Bat (None, 128)               512       \n",
      "_________________________________________________________________\n",
      "dense_87 (Dense)             (None, 256)               33024     \n",
      "_________________________________________________________________\n",
      "batch_normalization_104 (Bat (None, 256)               1024      \n",
      "_________________________________________________________________\n",
      "dense_88 (Dense)             (None, 512)               131584    \n",
      "_________________________________________________________________\n",
      "batch_normalization_105 (Bat (None, 512)               2048      \n",
      "_________________________________________________________________\n",
      "dense_89 (Dense)             (None, 1024)              525312    \n",
      "_________________________________________________________________\n",
      "batch_normalization_106 (Bat (None, 1024)              4096      \n",
      "_________________________________________________________________\n",
      "dense_90 (Dense)             (None, 64)                65600     \n",
      "_________________________________________________________________\n",
      "batch_normalization_107 (Bat (None, 64)                256       \n",
      "_________________________________________________________________\n",
      "dense_91 (Dense)             (None, 32)                2080      \n",
      "_________________________________________________________________\n",
      "batch_normalization_108 (Bat (None, 32)                128       \n",
      "_________________________________________________________________\n",
      "dense_92 (Dense)             (None, 8)                 264       \n",
      "=================================================================\n",
      "Total params: 29,680,277\n",
      "Trainable params: 29,676,035\n",
      "Non-trainable params: 4,242\n",
      "_________________________________________________________________\n"
     ]
    }
   ],
   "source": [
    "model3 = Sequential()\n",
    "\n",
    "model3.add(Conv2D(input_shape=[224,224,3], filters=64,kernel_size=[3,3], padding='same', activation='relu'))\n",
    "model3.add(Flatten())\n",
    "model3.add(Dense(units=9,activation='relu'))\n",
    "model3.add(BatchNormalization())\n",
    "model3.add(Dense(units=32,activation='relu'))\n",
    "model3.add(BatchNormalization())\n",
    "model3.add(Dense(units=64,activation='relu'))\n",
    "model3.add(BatchNormalization())\n",
    "model3.add(Dense(units=128,activation='relu'))\n",
    "model3.add(BatchNormalization())\n",
    "model3.add(Dense(units=256,activation='relu'))\n",
    "model3.add(BatchNormalization())\n",
    "model3.add(Dense(units=512,activation='relu'))\n",
    "model3.add(BatchNormalization())\n",
    "model3.add(Dense(units=1024,activation='relu'))\n",
    "model3.add(BatchNormalization())\n",
    "model3.add(Dense(units=64,activation='relu'))\n",
    "model3.add(BatchNormalization())\n",
    "model3.add(Dense(units=32,activation='relu'))\n",
    "model3.add(BatchNormalization())\n",
    "model3.add(Dense(units=8, activation=\"softmax\"))\n",
    "model3.summary()"
   ]
  },
  {
   "cell_type": "code",
   "execution_count": 30,
   "metadata": {
    "execution": {
     "iopub.execute_input": "2021-05-29T11:43:09.423455Z",
     "iopub.status.busy": "2021-05-29T11:43:09.423116Z",
     "iopub.status.idle": "2021-05-29T12:00:48.646275Z",
     "shell.execute_reply": "2021-05-29T12:00:48.645517Z",
     "shell.execute_reply.started": "2021-05-29T11:43:09.423423Z"
    }
   },
   "outputs": [
    {
     "name": "stdout",
     "output_type": "stream",
     "text": [
      "Epoch 1/18\n",
      "117/117 [==============================] - 61s 504ms/step - loss: 1.2842 - categorical_accuracy: 0.5296 - val_loss: 2.1371 - val_categorical_accuracy: 0.2532\n",
      "Epoch 2/18\n",
      "117/117 [==============================] - 59s 502ms/step - loss: 0.3652 - categorical_accuracy: 0.8767 - val_loss: 1.3549 - val_categorical_accuracy: 0.5469\n",
      "Epoch 3/18\n",
      "117/117 [==============================] - 58s 495ms/step - loss: 0.2099 - categorical_accuracy: 0.9290 - val_loss: 0.6124 - val_categorical_accuracy: 0.7936\n",
      "Epoch 4/18\n",
      "117/117 [==============================] - 59s 503ms/step - loss: 0.1511 - categorical_accuracy: 0.9489 - val_loss: 1.4673 - val_categorical_accuracy: 0.6282\n",
      "Epoch 5/18\n",
      "117/117 [==============================] - 58s 500ms/step - loss: 0.0987 - categorical_accuracy: 0.9687 - val_loss: 1.0317 - val_categorical_accuracy: 0.6913\n",
      "Epoch 6/18\n",
      "117/117 [==============================] - 58s 499ms/step - loss: 0.0759 - categorical_accuracy: 0.9774 - val_loss: 0.3566 - val_categorical_accuracy: 0.8825\n",
      "Epoch 7/18\n",
      "117/117 [==============================] - 59s 500ms/step - loss: 0.0517 - categorical_accuracy: 0.9854 - val_loss: 1.1818 - val_categorical_accuracy: 0.7438\n",
      "Epoch 8/18\n",
      "117/117 [==============================] - 59s 502ms/step - loss: 0.0648 - categorical_accuracy: 0.9816 - val_loss: 0.6568 - val_categorical_accuracy: 0.8292\n",
      "Epoch 9/18\n",
      "117/117 [==============================] - 59s 501ms/step - loss: 0.0527 - categorical_accuracy: 0.9841 - val_loss: 0.9801 - val_categorical_accuracy: 0.7791\n",
      "Epoch 10/18\n",
      "117/117 [==============================] - 59s 504ms/step - loss: 0.0278 - categorical_accuracy: 0.9918 - val_loss: 0.6261 - val_categorical_accuracy: 0.8588\n",
      "Epoch 11/18\n",
      "117/117 [==============================] - 59s 501ms/step - loss: 0.0468 - categorical_accuracy: 0.9857 - val_loss: 1.0621 - val_categorical_accuracy: 0.7575\n",
      "Epoch 12/18\n",
      "117/117 [==============================] - 59s 501ms/step - loss: 0.0365 - categorical_accuracy: 0.9898 - val_loss: 0.3386 - val_categorical_accuracy: 0.9221\n",
      "Epoch 13/18\n",
      "117/117 [==============================] - 59s 503ms/step - loss: 0.0225 - categorical_accuracy: 0.9930 - val_loss: 0.2860 - val_categorical_accuracy: 0.9321\n",
      "Epoch 14/18\n",
      "117/117 [==============================] - 59s 507ms/step - loss: 0.0214 - categorical_accuracy: 0.9943 - val_loss: 0.7689 - val_categorical_accuracy: 0.8354\n",
      "Epoch 15/18\n",
      "117/117 [==============================] - 58s 500ms/step - loss: 0.0163 - categorical_accuracy: 0.9937 - val_loss: 1.1402 - val_categorical_accuracy: 0.7934\n",
      "Epoch 16/18\n",
      "117/117 [==============================] - 59s 502ms/step - loss: 0.0175 - categorical_accuracy: 0.9947 - val_loss: 1.8319 - val_categorical_accuracy: 0.6783\n",
      "Epoch 17/18\n",
      "117/117 [==============================] - 59s 504ms/step - loss: 0.0372 - categorical_accuracy: 0.9896 - val_loss: 1.1570 - val_categorical_accuracy: 0.7912\n",
      "Epoch 18/18\n",
      "117/117 [==============================] - 59s 506ms/step - loss: 0.0224 - categorical_accuracy: 0.9932 - val_loss: 0.3844 - val_categorical_accuracy: 0.9087\n"
     ]
    }
   ],
   "source": [
    "model3.compile(optimizer=keras.optimizers.Adam(), loss=keras.losses.CategoricalCrossentropy(from_logits=True),\n",
    "                   metrics=[keras.metrics.CategoricalAccuracy()])\n",
    "history = model3.fit(training_set, steps_per_epoch=train_num//batch_size, validation_data=valid_set,\n",
    "                               epochs=18, validation_steps=valid_num//batch_size)"
   ]
  },
  {
   "cell_type": "code",
   "execution_count": 31,
   "metadata": {
    "execution": {
     "iopub.execute_input": "2021-05-29T12:01:41.393181Z",
     "iopub.status.busy": "2021-05-29T12:01:41.392850Z",
     "iopub.status.idle": "2021-05-29T12:01:41.558485Z",
     "shell.execute_reply": "2021-05-29T12:01:41.557615Z",
     "shell.execute_reply.started": "2021-05-29T12:01:41.393149Z"
    }
   },
   "outputs": [
    {
     "data": {
      "text/plain": [
       "Text(0, 0.5, 'Accuracy')"
      ]
     },
     "execution_count": 31,
     "metadata": {},
     "output_type": "execute_result"
    },
    {
     "data": {
      "image/png": "[encoded data removed]",
      "text/plain": [
       "<Figure size 432x288 with 1 Axes>"
      ]
     },
     "metadata": {
      "needs_background": "light"
     },
     "output_type": "display_data"
    }
   ],
   "source": [
    "train_accuracy3 = history.history['categorical_accuracy']\n",
    "val_accuracy3 = history.history['val_categorical_accuracy']\n",
    "import matplotlib.pyplot as plt\n",
    "\n",
    "epochs = [1,2,3,4,5,6,7,8,9,10,11,12,13,14,15,16,17,18]\n",
    "\n",
    "plt.plot(epochs, train_accuracy3, label='train acc')\n",
    "plt.plot(epochs, val_accuracy3, label='val acc')\n",
    "plt.title(\"Accuracy Plot\")\n",
    "plt.xlabel('Epochs')\n",
    "plt.ylabel('Accuracy')"
   ]
  }
 ],
 "metadata": {
  "kernelspec": {
   "display_name": "Python 3",
   "language": "python",
   "name": "python3"
  },
  "language_info": {
   "codemirror_mode": {
    "name": "ipython",
    "version": 3
   },
   "file_extension": ".py",
   "mimetype": "text/x-python",
   "name": "python",
   "nbconvert_exporter": "python",
   "pygments_lexer": "ipython3",
   "version": "3.8.5"
  }
 },
 "nbformat": 4,
 "nbformat_minor": 4
}
